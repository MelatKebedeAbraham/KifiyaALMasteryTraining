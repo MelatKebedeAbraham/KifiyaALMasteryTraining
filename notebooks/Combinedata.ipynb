{
 "cells": [
  {
   "cell_type": "code",
   "execution_count": 3,
   "metadata": {},
   "outputs": [],
   "source": [
    "# Import necessary libraries\n",
    "import pandas as pd\n",
    "import os\n",
    "\n",
    "# Define the path to your data directory\n",
    "data_dir = \"C:/Users/user/Desktop/Kifiya AI Mastery Traning/Data/Raw\"\n"
   ]
  },
  {
   "cell_type": "code",
   "execution_count": 4,
   "metadata": {},
   "outputs": [
    {
     "name": "stdout",
     "output_type": "stream",
     "text": [
      "          Timestamp  GHI  DNI  DHI  ModA  ModB  Tamb    RH   WS  WSgust  \\\n",
      "0  2021-08-09 00:01 -1.2 -0.2 -1.1   0.0   0.0  26.2  93.4  0.0     0.4   \n",
      "1  2021-08-09 00:02 -1.1 -0.2 -1.1   0.0   0.0  26.2  93.6  0.0     0.0   \n",
      "2  2021-08-09 00:03 -1.1 -0.2 -1.1   0.0   0.0  26.2  93.7  0.3     1.1   \n",
      "3  2021-08-09 00:04 -1.1 -0.1 -1.0   0.0   0.0  26.2  93.3  0.2     0.7   \n",
      "4  2021-08-09 00:05 -1.0 -0.1 -1.0   0.0   0.0  26.2  93.3  0.1     0.7   \n",
      "\n",
      "   WSstdev     WD  WDstdev   BP  Cleaning  Precipitation  TModA  TModB  \\\n",
      "0      0.1  122.1      0.0  998         0            0.0   26.3   26.2   \n",
      "1      0.0    0.0      0.0  998         0            0.0   26.3   26.2   \n",
      "2      0.5  124.6      1.5  997         0            0.0   26.4   26.2   \n",
      "3      0.4  120.3      1.3  997         0            0.0   26.4   26.3   \n",
      "4      0.3  113.2      1.0  997         0            0.0   26.4   26.3   \n",
      "\n",
      "   Comments                source  \n",
      "0       NaN  benin-malanville.csv  \n",
      "1       NaN  benin-malanville.csv  \n",
      "2       NaN  benin-malanville.csv  \n",
      "3       NaN  benin-malanville.csv  \n",
      "4       NaN  benin-malanville.csv  \n"
     ]
    }
   ],
   "source": [
    "# List of file names to merge\n",
    "file_names = [\"benin-malanville.csv\", \"sierraleone-bumbuna.csv\", \"togo-dapaong_qc.csv\"]\n",
    "\n",
    "# Create an empty list to hold dataframes\n",
    "dataframes = []\n",
    "\n",
    "# Loop through each file name, read the file, and append it to the list of dataframes\n",
    "for file_name in file_names:\n",
    "    # Create the full file path\n",
    "    file_path = os.path.join(data_dir, file_name)\n",
    "    \n",
    "    # Read the file into a dataframe\n",
    "    df = pd.read_csv(file_path)\n",
    "    \n",
    "    # Add a new column 'source' with the file name (or any other identifier you prefer)\n",
    "    df['source'] = file_name\n",
    "    \n",
    "    # Append the dataframe to the list\n",
    "    dataframes.append(df)\n",
    "\n",
    "# Concatenate all dataframes into one\n",
    "merged_df = pd.concat(dataframes, ignore_index=True)\n",
    "\n",
    "# Display the first few rows of the merged dataframe\n",
    "print(merged_df.head())\n",
    "\n",
    "# Optionally, save the merged dataframe to a new CSV file\n",
    "merged_df.to_csv(\"C:/Users/user/Desktop/Kifiya AI Mastery Traning/Data/Processed/merged_data.csv\", index=False)"
   ]
  }
 ],
 "metadata": {
  "kernelspec": {
   "display_name": "venv",
   "language": "python",
   "name": "python3"
  },
  "language_info": {
   "codemirror_mode": {
    "name": "ipython",
    "version": 3
   },
   "file_extension": ".py",
   "mimetype": "text/x-python",
   "name": "python",
   "nbconvert_exporter": "python",
   "pygments_lexer": "ipython3",
   "version": "3.12.0"
  }
 },
 "nbformat": 4,
 "nbformat_minor": 2
}
